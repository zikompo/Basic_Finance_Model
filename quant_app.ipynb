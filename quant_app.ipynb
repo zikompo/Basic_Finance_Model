{
 "cells": [
  {
   "metadata": {
    "ExecuteTime": {
     "end_time": "2024-07-08T08:01:29.038377Z",
     "start_time": "2024-07-08T08:01:29.034788Z"
    }
   },
   "cell_type": "code",
   "source": "import numpy as np",
   "id": "922345072fa7fef4",
   "outputs": [],
   "execution_count": 23
  },
  {
   "cell_type": "code",
   "id": "initial_id",
   "metadata": {
    "collapsed": true,
    "ExecuteTime": {
     "end_time": "2024-07-08T08:02:28.431794Z",
     "start_time": "2024-07-08T08:02:28.428848Z"
    }
   },
   "source": [
    "def future_value(pv: float, r:float, n: float, continuous: bool) -> float:\n",
    "    \"\"\"returns the future value given the present value, \n",
    "    the interest rate and the number of compounding periods.\"\"\"\n",
    "    if not continuous: # if we are using a discrete model\n",
    "        return round(pv * (1+r)**n, 2)\n",
    "    return pv * np.exp(r * n)"
   ],
   "outputs": [],
   "execution_count": 25
  },
  {
   "metadata": {
    "ExecuteTime": {
     "end_time": "2024-07-08T07:57:06.269624Z",
     "start_time": "2024-07-08T07:57:06.266961Z"
    }
   },
   "cell_type": "code",
   "source": "future_value(1000, 0.045, 2)",
   "id": "4742341978990eac",
   "outputs": [
    {
     "data": {
      "text/plain": [
       "1092.02"
      ]
     },
     "execution_count": 21,
     "metadata": {},
     "output_type": "execute_result"
    }
   ],
   "execution_count": 21
  },
  {
   "metadata": {
    "ExecuteTime": {
     "end_time": "2024-07-08T08:04:25.880133Z",
     "start_time": "2024-07-08T08:04:25.877634Z"
    }
   },
   "cell_type": "code",
   "source": [
    "def present_value(fv: float, r: float, n: float, continuous: bool) -> float:\n",
    "    \"\"\"Returns the present value given the future value,\n",
    "    the interest rate and the number of compounding periods.\n",
    "    \"\"\"\n",
    "    if not continuous:\n",
    "        return round(fv/((1+r)**n))\n",
    "    return fv * np.exp(-r*n)"
   ],
   "id": "19da4420355fdbf3",
   "outputs": [],
   "execution_count": 26
  },
  {
   "metadata": {
    "ExecuteTime": {
     "end_time": "2024-07-08T07:57:06.276945Z",
     "start_time": "2024-07-08T07:57:06.275710Z"
    }
   },
   "cell_type": "code",
   "source": "",
   "id": "e10ddf8f39e61743",
   "outputs": [],
   "execution_count": 22
  }
 ],
 "metadata": {
  "kernelspec": {
   "display_name": "Python 3",
   "language": "python",
   "name": "python3"
  },
  "language_info": {
   "codemirror_mode": {
    "name": "ipython",
    "version": 2
   },
   "file_extension": ".py",
   "mimetype": "text/x-python",
   "name": "python",
   "nbconvert_exporter": "python",
   "pygments_lexer": "ipython2",
   "version": "2.7.6"
  }
 },
 "nbformat": 4,
 "nbformat_minor": 5
}
