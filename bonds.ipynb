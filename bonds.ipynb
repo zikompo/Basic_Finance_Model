{
 "cells": [
  {
   "metadata": {
    "ExecuteTime": {
     "end_time": "2024-07-10T09:26:05.468268Z",
     "start_time": "2024-07-10T09:26:05.174933Z"
    }
   },
   "cell_type": "code",
   "source": "import numpy as np",
   "id": "922345072fa7fef4",
   "outputs": [],
   "execution_count": 1
  },
  {
   "cell_type": "code",
   "id": "initial_id",
   "metadata": {
    "collapsed": true,
    "ExecuteTime": {
     "end_time": "2024-07-10T09:26:05.470913Z",
     "start_time": "2024-07-10T09:26:05.468787Z"
    }
   },
   "source": [
    "def future_value(pv: float, r:float, n: float, continuous: bool) -> float:\n",
    "    \"\"\"returns the future value given the present value, \n",
    "    the interest rate and the number of compounding periods.\"\"\"\n",
    "    if not continuous: # if we are using a discrete model\n",
    "        return pv * (1+(r/100))**n\n",
    "    return pv * np.exp(r * n)"
   ],
   "outputs": [],
   "execution_count": 2
  },
  {
   "metadata": {
    "ExecuteTime": {
     "end_time": "2024-07-10T09:26:05.475346Z",
     "start_time": "2024-07-10T09:26:05.472363Z"
    }
   },
   "cell_type": "code",
   "source": "future_value(1000, 0.045, 2, False)",
   "id": "4742341978990eac",
   "outputs": [
    {
     "data": {
      "text/plain": [
       "1000.9002025000002"
      ]
     },
     "execution_count": 3,
     "metadata": {},
     "output_type": "execute_result"
    }
   ],
   "execution_count": 3
  },
  {
   "metadata": {
    "ExecuteTime": {
     "end_time": "2024-07-10T09:26:05.477724Z",
     "start_time": "2024-07-10T09:26:05.475797Z"
    }
   },
   "cell_type": "code",
   "source": [
    "def present_value(fv: float, r: float, n: float, continuous: bool) -> float:\n",
    "    \"\"\"Returns the present value given the future value,\n",
    "    the interest rate and the number of compounding periods.\n",
    "    Give percentage in terms of a value between 0 and 100.\n",
    "    \"\"\"\n",
    "    if not continuous:\n",
    "        return fv/((1+(r/100))**n)\n",
    "    return fv * np.exp(-r*n)"
   ],
   "id": "19da4420355fdbf3",
   "outputs": [],
   "execution_count": 4
  },
  {
   "metadata": {
    "ExecuteTime": {
     "end_time": "2024-07-10T09:26:05.480566Z",
     "start_time": "2024-07-10T09:26:05.478409Z"
    }
   },
   "cell_type": "code",
   "source": "future_value(pv=100000, r=0.10, n=10, continuous=False)",
   "id": "e10ddf8f39e61743",
   "outputs": [
    {
     "data": {
      "text/plain": [
       "101004.51202102512"
      ]
     },
     "execution_count": 5,
     "metadata": {},
     "output_type": "execute_result"
    }
   ],
   "execution_count": 5
  },
  {
   "metadata": {
    "ExecuteTime": {
     "end_time": "2024-07-10T09:26:05.483419Z",
     "start_time": "2024-07-10T09:26:05.481147Z"
    }
   },
   "cell_type": "code",
   "source": [
    "class ZeroCouponBond:\n",
    "    def __init__(self, principal, maturity, interest_rate):\n",
    "        # principal amount\n",
    "        self.principal = principal\n",
    "        # date to maturity\n",
    "        self.maturity = maturity\n",
    "        # market interest rate (discounting)\n",
    "        self.interest_rate = interest_rate / 100\n",
    "    \n",
    "    def present_value(self, fv, n):\n",
    "        return fv/((1+self.interest_rate)**n)\n",
    "\n",
    "    def present_value_continuous(self, fv, n):\n",
    "        return fv * np.exp(-self.interest_rate * n)\n",
    "    \n",
    "    def calculate_price(self):\n",
    "        return self.present_value(self.principal, self.maturity)"
   ],
   "id": "f0b04ea065cf9280",
   "outputs": [],
   "execution_count": 6
  },
  {
   "metadata": {
    "ExecuteTime": {
     "end_time": "2024-07-10T09:26:05.486664Z",
     "start_time": "2024-07-10T09:26:05.483948Z"
    }
   },
   "cell_type": "code",
   "source": [
    "bond = ZeroCouponBond(1000, 2, 4)\n",
    "bond.calculate_price()"
   ],
   "id": "a48fa58ee3a7edba",
   "outputs": [
    {
     "data": {
      "text/plain": [
       "924.5562130177514"
      ]
     },
     "execution_count": 7,
     "metadata": {},
     "output_type": "execute_result"
    }
   ],
   "execution_count": 7
  },
  {
   "metadata": {
    "ExecuteTime": {
     "end_time": "2024-07-10T09:26:05.490852Z",
     "start_time": "2024-07-10T09:26:05.487705Z"
    }
   },
   "cell_type": "code",
   "source": [
    "class CouponBond:\n",
    "    def __init__(self, principal, rate, maturity, interest_rate):\n",
    "        self.principal = principal\n",
    "        self.rate = rate/100\n",
    "        self.maturity = maturity\n",
    "        self.interest_rate = interest_rate / 100\n",
    "    \n",
    "    def present_value(self, fv, n):\n",
    "        return fv / (1+self.interest_rate)**n\n",
    "    \n",
    "    def present_value_continuous(self, fv, n):\n",
    "        return fv * np.exp(-self.interest_rate * n)\n",
    "    \n",
    "    def calculate_price(self):\n",
    "        price = 0\n",
    "        \n",
    "        # discount the coupon payments\n",
    "        for t in range(1, self.maturity+1):\n",
    "            price = price + self.present_value(self.principal * self.rate, t)\n",
    "        price = price + self.present_value(self.principal, self.maturity)\n",
    "        \n",
    "        return price"
   ],
   "id": "73cbba0d900877f0",
   "outputs": [],
   "execution_count": 8
  },
  {
   "metadata": {
    "ExecuteTime": {
     "end_time": "2024-07-10T09:26:05.495779Z",
     "start_time": "2024-07-10T09:26:05.492965Z"
    }
   },
   "cell_type": "code",
   "source": [
    "bond = CouponBond(1000, 10, 3, 4)\n",
    "bond.calculate_price()"
   ],
   "id": "b7b426216b42a54e",
   "outputs": [
    {
     "data": {
      "text/plain": [
       "1166.5054619936275"
      ]
     },
     "execution_count": 9,
     "metadata": {},
     "output_type": "execute_result"
    }
   ],
   "execution_count": 9
  },
  {
   "metadata": {},
   "cell_type": "markdown",
   "source": "",
   "id": "e37a3054e7c17998"
  },
  {
   "metadata": {
    "ExecuteTime": {
     "end_time": "2024-07-10T09:26:05.498081Z",
     "start_time": "2024-07-10T09:26:05.496702Z"
    }
   },
   "cell_type": "code",
   "source": "",
   "id": "85fc95ba0f7a05d4",
   "outputs": [],
   "execution_count": 9
  }
 ],
 "metadata": {
  "kernelspec": {
   "display_name": "Python 3",
   "language": "python",
   "name": "python3"
  },
  "language_info": {
   "codemirror_mode": {
    "name": "ipython",
    "version": 2
   },
   "file_extension": ".py",
   "mimetype": "text/x-python",
   "name": "python",
   "nbconvert_exporter": "python",
   "pygments_lexer": "ipython2",
   "version": "2.7.6"
  }
 },
 "nbformat": 4,
 "nbformat_minor": 5
}
